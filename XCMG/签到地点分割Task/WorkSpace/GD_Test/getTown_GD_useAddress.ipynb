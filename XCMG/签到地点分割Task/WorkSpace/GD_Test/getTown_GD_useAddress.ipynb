{
 "cells": [
  {
   "cell_type": "code",
   "execution_count": 4,
   "id": "85e0c02c",
   "metadata": {},
   "outputs": [
    {
     "name": "stdout",
     "output_type": "stream",
     "text": [
      "徐家湾街道\n"
     ]
    }
   ],
   "source": [
    "import requests \n",
    "import sys\n",
    "\n",
    "key_jz = \"876433100914874df238e09c66dc022a\"\n",
    "\n",
    "search_poi_url = \"https://restapi.amap.com/v5/place/text?parameters\"\n",
    "reverse_geocoding_url = \"https://restapi.amap.com/v3/geocode/regeo?parameters\"\n",
    "\n",
    "regionParam = \"陕西省\"\n",
    "queryParam = \"陕西省九如御小区东区8栋\"\n",
    "\n",
    "search_poi_params = {\n",
    "    \"key\": key_jz,\n",
    "    \"keywords\": queryParam,\n",
    "    \"region\": regionParam\n",
    "}\n",
    "\n",
    "location = ''\n",
    "response = requests.get(search_poi_url, params=search_poi_params)\n",
    "if response:\n",
    "    dataDict = response.json()\n",
    "    # print(dataDict)\n",
    "    location = dataDict['pois'][0]['location']\n",
    "    # print(location)\n",
    "    params = {\n",
    "    \"key\": key_jz,\n",
    "    \"location\": location,\n",
    "    \"output\": \"json\"\n",
    "    }\n",
    "    response = requests.get(url=reverse_geocoding_url, params=params)\n",
    "    if response:\n",
    "        dataDict = response.json()\n",
    "        # print(dataDict)\n",
    "        town = dataDict['regeocode']['addressComponent']['township']\n",
    "        print(town)\n",
    "\n",
    "\n"
   ]
  }
 ],
 "metadata": {
  "kernelspec": {
   "display_name": "Python 3",
   "language": "python",
   "name": "python3"
  },
  "language_info": {
   "codemirror_mode": {
    "name": "ipython",
    "version": 3
   },
   "file_extension": ".py",
   "mimetype": "text/x-python",
   "name": "python",
   "nbconvert_exporter": "python",
   "pygments_lexer": "ipython3",
   "version": "3.8.10"
  }
 },
 "nbformat": 4,
 "nbformat_minor": 5
}
