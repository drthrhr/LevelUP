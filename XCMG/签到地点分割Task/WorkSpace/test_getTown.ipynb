{
 "cells": [
  {
   "cell_type": "code",
   "execution_count": null,
   "id": "9b810b77",
   "metadata": {},
   "outputs": [
    {
     "name": "stdout",
     "output_type": "stream",
     "text": [
      "{'status': 302, 'message': '天配额超限，限制访问'}\n",
      "{'status': 101, 'message': 'AK参数不存在'}\n"
     ]
    },
    {
     "ename": "KeyError",
     "evalue": "'results'",
     "output_type": "error",
     "traceback": [
      "\u001b[1;31m---------------------------------------------------------------------------\u001b[0m",
      "\u001b[1;31mKeyError\u001b[0m                                  Traceback (most recent call last)",
      "Cell \u001b[1;32mIn[5], line 53\u001b[0m\n\u001b[0;32m     51\u001b[0m         dataDict \u001b[38;5;241m=\u001b[39m response\u001b[38;5;241m.\u001b[39mjson()\n\u001b[0;32m     52\u001b[0m         \u001b[38;5;28mprint\u001b[39m(dataDict)\n\u001b[1;32m---> 53\u001b[0m         town \u001b[38;5;241m=\u001b[39m \u001b[43mdataDict\u001b[49m\u001b[43m[\u001b[49m\u001b[38;5;124;43m'\u001b[39;49m\u001b[38;5;124;43mresults\u001b[39;49m\u001b[38;5;124;43m'\u001b[39;49m\u001b[43m]\u001b[49m[\u001b[38;5;241m0\u001b[39m][\u001b[38;5;124m'\u001b[39m\u001b[38;5;124mtown\u001b[39m\u001b[38;5;124m'\u001b[39m]\n\u001b[0;32m     54\u001b[0m         \u001b[38;5;66;03m# print(town, end='')\u001b[39;00m\n\u001b[0;32m     55\u001b[0m \u001b[38;5;28;01melse\u001b[39;00m:\n\u001b[0;32m     56\u001b[0m     town \u001b[38;5;241m=\u001b[39m dataDict[\u001b[38;5;124m'\u001b[39m\u001b[38;5;124mresults\u001b[39m\u001b[38;5;124m'\u001b[39m][\u001b[38;5;241m0\u001b[39m][\u001b[38;5;124m'\u001b[39m\u001b[38;5;124mtown\u001b[39m\u001b[38;5;124m'\u001b[39m]\n",
      "\u001b[1;31mKeyError\u001b[0m: 'results'"
     ]
    }
   ],
   "source": [
    "# encoding:utf-8\n",
    "import requests \n",
    "import sys\n",
    "\n",
    "# 接口地址\n",
    "url = \"https://api.map.baidu.com/place/v3/region\"\n",
    "\n",
    "# 此处填写你在控制台-应用管理-创建应用后获取的AK\n",
    "ak_jz = \"ZwZud9nuWcy3JB7olb2TLwB2syQPu13i\"\n",
    "ak_djn = \"\"\n",
    "\n",
    "# 调用该Python脚本时传入参数： xx市 xxxxxx(地址信息)\n",
    "# if len(sys.argv) != 3:\n",
    "#     print('参数数目错误！应传参为： 【城市名】 【所查询地址信息】')\n",
    "#     exit(1)\n",
    "\n",
    "# regionParam = sys.argv[1]   # 获取xx市的参数\n",
    "# queryParam = sys.argv[2]    # 获取地址信息的参数\n",
    "# print('regionParam: ' + regionParam)\n",
    "# print('queryParam: ' + queryParam)\n",
    "\n",
    "regionParam = \"南京市\"  # 示例城市\n",
    "queryParam = \"南京市玄武区中山路1号\"  # 示例地址\n",
    "\n",
    "params = {\n",
    "    \"query\": queryParam,\n",
    "    \"region\": regionParam,\n",
    "    \"output\": \"json\",\n",
    "    \"is_light_version\": \"false\",\n",
    "    \"address_result\": \"false\",\n",
    "    \"scope\": \"2\",\n",
    "    \"ak\": ak_jz,\n",
    "}\n",
    "\n",
    "response = requests.get(url=url, params=params)\n",
    "if response:\n",
    "    dataDict = response.json()\n",
    "    # print(dataDict)\n",
    "    if dataDict['status'] == 302:   # 原ak超限了，使用新的ak重新拼装参数，并重新请求\n",
    "        params = {\n",
    "            \"query\": queryParam,\n",
    "            \"region\": regionParam,\n",
    "            \"output\": \"json\",\n",
    "            \"is_light_version\": \"false\",\n",
    "            \"address_result\": \"false\",\n",
    "            \"scope\": \"2\",\n",
    "            \"ak\": ak_djn,\n",
    "        }\n",
    "        response = requests.get(url=url, params=params)\n",
    "        if response:   \n",
    "            dataDict = response.json()\n",
    "            # print(dataDict)\n",
    "            town = dataDict['results'][0]['town']\n",
    "            print(town, end='')\n",
    "    else:\n",
    "        town = dataDict['results'][0]['town']\n",
    "        print(town, end='')\n"
   ]
  }
 ],
 "metadata": {
  "kernelspec": {
   "display_name": "Python 3",
   "language": "python",
   "name": "python3"
  },
  "language_info": {
   "codemirror_mode": {
    "name": "ipython",
    "version": 3
   },
   "file_extension": ".py",
   "mimetype": "text/x-python",
   "name": "python",
   "nbconvert_exporter": "python",
   "pygments_lexer": "ipython3",
   "version": "3.8.10"
  }
 },
 "nbformat": 4,
 "nbformat_minor": 5
}
